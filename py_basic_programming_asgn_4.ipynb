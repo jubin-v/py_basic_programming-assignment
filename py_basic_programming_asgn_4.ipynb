{
 "cells": [
  {
   "cell_type": "code",
   "execution_count": null,
   "id": "6cc54a99",
   "metadata": {},
   "outputs": [],
   "source": [
    "1.\tWrite a Python Program to Find the Factorial of a Number?"
   ]
  },
  {
   "cell_type": "code",
   "execution_count": 19,
   "id": "4ebb9cc2",
   "metadata": {},
   "outputs": [
    {
     "name": "stdout",
     "output_type": "stream",
     "text": [
      "enter a number for which factorial to find: 7\n",
      "factorial of 7 is 5040\n"
     ]
    }
   ],
   "source": [
    "a=int(input(\"enter a number for which factorial to find: \"))\n",
    "factorial=1\n",
    "if a<1:\n",
    "    print(\"factorial of {} is\" .format(a), \"Not applicable\")\n",
    "elif a==1:\n",
    "    print(\"factorial of {} is\" .format(a), a)\n",
    "else:\n",
    "    for i in range (1,a+1):\n",
    "        factorial= factorial*i\n",
    "    print(\"factorial of {} is\" .format(a), factorial)"
   ]
  },
  {
   "cell_type": "code",
   "execution_count": null,
   "id": "73945b68",
   "metadata": {},
   "outputs": [],
   "source": [
    "2.\tWrite a Python Program to Display the multiplication Table?"
   ]
  },
  {
   "cell_type": "code",
   "execution_count": 31,
   "id": "49e5fc24",
   "metadata": {},
   "outputs": [
    {
     "name": "stdout",
     "output_type": "stream",
     "text": [
      "enter a number for which multiplication table to be displayed: 5\n",
      " 5 * 1  =  5\n",
      " 5 * 2  =  10\n",
      " 5 * 3  =  15\n",
      " 5 * 4  =  20\n",
      " 5 * 5  =  25\n",
      " 5 * 6  =  30\n",
      " 5 * 7  =  35\n",
      " 5 * 8  =  40\n",
      " 5 * 9  =  45\n",
      " 5 * 10  =  50\n"
     ]
    }
   ],
   "source": [
    "mul=int(input(\"enter a number for which multiplication table to be displayed: \"))\n",
    "for i in range (1,11):\n",
    "        k= mul*i\n",
    "        print(\" {} * {}  = \" .format(mul,i), k)"
   ]
  },
  {
   "cell_type": "code",
   "execution_count": null,
   "id": "cc086f18",
   "metadata": {},
   "outputs": [],
   "source": [
    "3.\tWrite a Python Program to Print the Fibonacci sequence?"
   ]
  },
  {
   "cell_type": "code",
   "execution_count": 6,
   "id": "a12bc633",
   "metadata": {},
   "outputs": [
    {
     "name": "stdout",
     "output_type": "stream",
     "text": [
      "Enter number of terms:  10\n",
      "Fibonacci sequence:\n",
      "0\n",
      "1\n",
      "1\n",
      "2\n",
      "3\n",
      "5\n",
      "8\n",
      "13\n",
      "21\n",
      "34\n"
     ]
    }
   ],
   "source": [
    "f=int(input(\"Enter number of terms:  \"))\n",
    "f1,f2=[0,1] # first two terms of Fibona\n",
    "\n",
    "if f<=0:\n",
    "    print(\"enter a positive numeber \")\n",
    "elif f==1:\n",
    "    print(\"Fibonacci sequence upto\",f,\":\")\n",
    "    print(f1)\n",
    "else:\n",
    "    print(\"Fibonacci sequence:\")\n",
    "    for i in range(f):\n",
    "        print(f1)\n",
    "        sum = f1 + f2 \n",
    "        f1 = f2\n",
    "        f2 = sum\n",
    "        i += 1"
   ]
  },
  {
   "cell_type": "code",
   "execution_count": null,
   "id": "661a1d3a",
   "metadata": {},
   "outputs": [],
   "source": [
    "4.\tWrite a Python Program to Check Armstrong Number?"
   ]
  },
  {
   "cell_type": "code",
   "execution_count": 9,
   "id": "539d3ae9",
   "metadata": {},
   "outputs": [
    {
     "name": "stdout",
     "output_type": "stream",
     "text": [
      "Enter number to be checked for armstrong number:  370\n",
      "370 is an Armstrong number\n"
     ]
    }
   ],
   "source": [
    "num = int(input(\"Enter number to be checked for armstrong number:  \"))\n",
    "order = len(str(num))\n",
    "\n",
    "sum = 0\n",
    "\n",
    "temp = num\n",
    "while temp > 0:\n",
    "    digit = temp % 10\n",
    "    sum += digit ** order\n",
    "    temp //= 10\n",
    "if num == sum:\n",
    "       print(num,\"is an Armstrong number\")\n",
    "else:\n",
    "       print(num,\"is not an Armstrong number\")"
   ]
  },
  {
   "cell_type": "code",
   "execution_count": null,
   "id": "6acaa824",
   "metadata": {},
   "outputs": [],
   "source": [
    "5.\tWrite a Python Program to Find Armstrong Number in an Interval?"
   ]
  },
  {
   "cell_type": "code",
   "execution_count": 8,
   "id": "d95a1e99",
   "metadata": {},
   "outputs": [
    {
     "name": "stdout",
     "output_type": "stream",
     "text": [
      "Enter lower limit :  100\n",
      "Enter upper limit:  1000\n",
      "153\n",
      "370\n",
      "371\n",
      "407\n"
     ]
    }
   ],
   "source": [
    "lower = int(input(\"Enter lower limit :  \"))\n",
    "upper= int(input(\"Enter upper limit:  \"))\n",
    "\n",
    "\n",
    "for num in range (lower,upper+1):\n",
    "    order = len(str(num))\n",
    "    sum = 0\n",
    "    temp = num\n",
    "    while temp > 0:\n",
    "            digit = temp % 10\n",
    "            sum += digit ** order\n",
    "            temp //= 10\n",
    "\n",
    "    if num == sum:\n",
    "                print(num)\n",
    "        \n"
   ]
  },
  {
   "cell_type": "code",
   "execution_count": null,
   "id": "21cbd78e",
   "metadata": {},
   "outputs": [],
   "source": [
    "6.\tWrite a Python Program to Find the Sum of Natural Numbers?"
   ]
  },
  {
   "cell_type": "code",
   "execution_count": 18,
   "id": "40857495",
   "metadata": {},
   "outputs": [
    {
     "name": "stdout",
     "output_type": "stream",
     "text": [
      "Enter num :  5\n",
      "15\n"
     ]
    }
   ],
   "source": [
    "num = int(input(\"Enter num :  \"))\n",
    "sum=0\n",
    "if num <0:\n",
    "    print (\"please enter positive number\")\n",
    "else:\n",
    "    while num > 0:\n",
    "            \n",
    "            sum += num\n",
    "            num-=1\n",
    "            \n",
    "    print(sum)"
   ]
  }
 ],
 "metadata": {
  "kernelspec": {
   "display_name": "Python 3 (ipykernel)",
   "language": "python",
   "name": "python3"
  },
  "language_info": {
   "codemirror_mode": {
    "name": "ipython",
    "version": 3
   },
   "file_extension": ".py",
   "mimetype": "text/x-python",
   "name": "python",
   "nbconvert_exporter": "python",
   "pygments_lexer": "ipython3",
   "version": "3.9.7"
  }
 },
 "nbformat": 4,
 "nbformat_minor": 5
}
