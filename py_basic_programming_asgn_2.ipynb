{
 "cells": [
  {
   "cell_type": "code",
   "execution_count": null,
   "id": "daa8083d",
   "metadata": {},
   "outputs": [],
   "source": [
    "1.\tWrite a Python program to convert kilometers to miles?"
   ]
  },
  {
   "cell_type": "code",
   "execution_count": 12,
   "id": "89ddfa18",
   "metadata": {},
   "outputs": [
    {
     "name": "stdout",
     "output_type": "stream",
     "text": [
      "Enter distance in kilometers :12\n",
      "Distance in miles:  7.456799999999999\n"
     ]
    }
   ],
   "source": [
    "km= float(input(\"Enter distance in kilometers :\"))\n",
    "miles = 0.6214*km\n",
    "print(\"Distance in miles: \",miles)"
   ]
  },
  {
   "cell_type": "code",
   "execution_count": null,
   "id": "621edbd3",
   "metadata": {},
   "outputs": [],
   "source": [
    "2.\tWrite a Python program to convert Celsius to Fahrenheit"
   ]
  },
  {
   "cell_type": "code",
   "execution_count": 7,
   "id": "c64e91d0",
   "metadata": {},
   "outputs": [
    {
     "name": "stdout",
     "output_type": "stream",
     "text": [
      "Enter Temperature in Celsius :36\n",
      "Temperature in Fahrenheit is :  96.8\n"
     ]
    }
   ],
   "source": [
    "Celsius= float(input(\"Enter Temperature in Celsius :\"))\n",
    "Fahrenheit = (Celsius * 1.8) + 32\n",
    "print(\"Temperature in Fahrenheit is : \", Fahrenheit)"
   ]
  },
  {
   "cell_type": "code",
   "execution_count": null,
   "id": "c0dcfbf1",
   "metadata": {},
   "outputs": [],
   "source": [
    "3.\tWrite a Python program to display calendar?"
   ]
  },
  {
   "cell_type": "code",
   "execution_count": 13,
   "id": "04f2cf91",
   "metadata": {},
   "outputs": [
    {
     "name": "stdout",
     "output_type": "stream",
     "text": [
      "Enter year in yy format :22\n",
      "Enter month in mm format :01\n",
      "     January 22\n",
      "Mo Tu We Th Fr Sa Su\n",
      "                1  2\n",
      " 3  4  5  6  7  8  9\n",
      "10 11 12 13 14 15 16\n",
      "17 18 19 20 21 22 23\n",
      "24 25 26 27 28 29 30\n",
      "31\n",
      "\n"
     ]
    }
   ],
   "source": [
    "import calendar\n",
    "yy= int(input(\"Enter year in yy format :\"))\n",
    "mm= int(input(\"Enter month in mm format :\"))\n",
    "print(calendar.month(yy,mm))"
   ]
  },
  {
   "cell_type": "code",
   "execution_count": null,
   "id": "31e124ad",
   "metadata": {},
   "outputs": [],
   "source": [
    "4.\tWrite a Python program to solve quadratic equation?"
   ]
  },
  {
   "cell_type": "code",
   "execution_count": null,
   "id": "3c9826a6",
   "metadata": {},
   "outputs": [],
   "source": [
    "# quadratic equation is given by the formula ax^2+ bx + c, the decriminant x=(-b+-squareroot(b^2- 4ac))/2a"
   ]
  },
  {
   "cell_type": "code",
   "execution_count": 15,
   "id": "a5a1ae3a",
   "metadata": {},
   "outputs": [
    {
     "name": "stdout",
     "output_type": "stream",
     "text": [
      "insert coefficient of a: 2\n",
      "insert coefficient of b: 5\n",
      "insert coefficient of c: 8\n",
      "The function has two complex roots:  (-1.25+1.5612494995995996j) (-1.25-1.5612494995995996j)\n"
     ]
    }
   ],
   "source": [
    "import math\n",
    "a = float(input(\"insert coefficient of a: \"))\n",
    "b = float(input(\"insert coefficient of b: \"))\n",
    "c = float(input(\"insert coefficient of c: \"))\n",
    "\n",
    "discriminant = b**2 - 4*a*c\n",
    "\n",
    "if discriminant == 0:\n",
    "    x1 = (-b + math.sqrt(discriminant))/(2*a)\n",
    "    x2 = (-b - math.sqrt(discriminant))/(2*a)\n",
    "    print(\"The function has one double root: \", x1)\n",
    "    \n",
    "elif discriminant > 0:\n",
    "    x1 = (-b + math.sqrt(discriminant))/(2*a)\n",
    "    x2 = (-b - math.sqrt(discriminant))/(2*a)\n",
    "    print(\"The function has two real roots:\", x1,x2)\n",
    "\n",
    "else:\n",
    "    x1 = complex((-b/(2*a)),math.sqrt(-discriminant)/(2*a))\n",
    "    x2 = complex((-b/(2*a)),-math.sqrt(-discriminant)/(2*a))\n",
    "    print(\"The function has two complex roots: \", x1,x2)\n"
   ]
  },
  {
   "cell_type": "code",
   "execution_count": null,
   "id": "ec16c644",
   "metadata": {},
   "outputs": [],
   "source": [
    "5.\tWrite a Python program to swap two variables without temp variable?"
   ]
  },
  {
   "cell_type": "code",
   "execution_count": 16,
   "id": "4c8f18d4",
   "metadata": {},
   "outputs": [
    {
     "name": "stdout",
     "output_type": "stream",
     "text": [
      "enter value of x : 55\n",
      "enter value of y: 33\n",
      "value of x after swaping is:  33 \n",
      "value of y after swaping is:  55\n"
     ]
    }
   ],
   "source": [
    "# without temporary variable\n",
    "x=int(input(\"enter value of x : \"))\n",
    "y=int(input(\"enter value of y: \"))\n",
    "x=y+x\n",
    "y=x-y\n",
    "x=x-y\n",
    "\n",
    "print(\"value of x after swaping is: \", x , \"\\nvalue of y after swaping is: \",y )"
   ]
  },
  {
   "cell_type": "code",
   "execution_count": null,
   "id": "bf4c4f1c",
   "metadata": {},
   "outputs": [],
   "source": []
  }
 ],
 "metadata": {
  "kernelspec": {
   "display_name": "Python 3 (ipykernel)",
   "language": "python",
   "name": "python3"
  },
  "language_info": {
   "codemirror_mode": {
    "name": "ipython",
    "version": 3
   },
   "file_extension": ".py",
   "mimetype": "text/x-python",
   "name": "python",
   "nbconvert_exporter": "python",
   "pygments_lexer": "ipython3",
   "version": "3.9.7"
  }
 },
 "nbformat": 4,
 "nbformat_minor": 5
}
