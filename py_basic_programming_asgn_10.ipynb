{
 "cells": [
  {
   "cell_type": "code",
   "execution_count": null,
   "id": "ffe2cb2a",
   "metadata": {},
   "outputs": [],
   "source": [
    "1.\tWrite a Python program to find sum of elements in list?\n"
   ]
  },
  {
   "cell_type": "code",
   "execution_count": 2,
   "id": "7452fd85",
   "metadata": {},
   "outputs": [
    {
     "data": {
      "text/plain": [
       "15"
      ]
     },
     "execution_count": 2,
     "metadata": {},
     "output_type": "execute_result"
    }
   ],
   "source": [
    "\n",
    "lst = [1,2,3,4,5]\n",
    "\n",
    "List_sum = sum(lst)\n",
    "List_sum"
   ]
  },
  {
   "cell_type": "code",
   "execution_count": null,
   "id": "4a34b479",
   "metadata": {},
   "outputs": [],
   "source": [
    "2.\tWrite a Python program to  Multiply all numbers in the list?\n"
   ]
  },
  {
   "cell_type": "code",
   "execution_count": 4,
   "id": "3e38b86d",
   "metadata": {},
   "outputs": [
    {
     "name": "stdout",
     "output_type": "stream",
     "text": [
      "procuct of list is  120\n"
     ]
    }
   ],
   "source": [
    "\n",
    "lst = [1,2,3,4,5]\n",
    "product =1\n",
    "for i in lst:\n",
    "    product = product*i\n",
    "print(\"procuct of list is \", product)"
   ]
  },
  {
   "cell_type": "code",
   "execution_count": null,
   "id": "cada2238",
   "metadata": {},
   "outputs": [],
   "source": [
    "3.\tWrite a Python program to find smallest number in a list?\n"
   ]
  },
  {
   "cell_type": "code",
   "execution_count": 5,
   "id": "31fde553",
   "metadata": {},
   "outputs": [
    {
     "data": {
      "text/plain": [
       "1"
      ]
     },
     "execution_count": 5,
     "metadata": {},
     "output_type": "execute_result"
    }
   ],
   "source": [
    "\n",
    "lst = [1,2,3,4,5]\n",
    "min(lst)"
   ]
  },
  {
   "cell_type": "code",
   "execution_count": null,
   "id": "bda4b930",
   "metadata": {},
   "outputs": [],
   "source": [
    "4.\tWrite a Python program to find largest number in a list?\n"
   ]
  },
  {
   "cell_type": "code",
   "execution_count": 6,
   "id": "e5d5d019",
   "metadata": {},
   "outputs": [
    {
     "data": {
      "text/plain": [
       "5"
      ]
     },
     "execution_count": 6,
     "metadata": {},
     "output_type": "execute_result"
    }
   ],
   "source": [
    "lst = [1,2,3,4,5]\n",
    "max(lst)"
   ]
  },
  {
   "cell_type": "code",
   "execution_count": null,
   "id": "1c0b896f",
   "metadata": {},
   "outputs": [],
   "source": [
    "5.\tWrite a Python program to find second largest number in a list?\n"
   ]
  },
  {
   "cell_type": "code",
   "execution_count": 8,
   "id": "4c574378",
   "metadata": {},
   "outputs": [
    {
     "data": {
      "text/plain": [
       "4"
      ]
     },
     "execution_count": 8,
     "metadata": {},
     "output_type": "execute_result"
    }
   ],
   "source": [
    "lst = [1,2,3,4,5]\n",
    "lst.sort(reverse=True)\n",
    "lst[1]"
   ]
  },
  {
   "cell_type": "code",
   "execution_count": null,
   "id": "bbdfd6d8",
   "metadata": {},
   "outputs": [],
   "source": [
    "6.\tWrite a Python program to find N largest elements from a list?\n"
   ]
  },
  {
   "cell_type": "code",
   "execution_count": 9,
   "id": "0c56533a",
   "metadata": {},
   "outputs": [
    {
     "data": {
      "text/plain": [
       "[5, 4]"
      ]
     },
     "execution_count": 9,
     "metadata": {},
     "output_type": "execute_result"
    }
   ],
   "source": [
    "lst = [1,2,3,4,5]\n",
    "lst.sort(reverse=True)\n",
    "\n",
    "# 2 laregest number in the list\n",
    "\n",
    "lst[:2]"
   ]
  },
  {
   "cell_type": "code",
   "execution_count": null,
   "id": "52e494ad",
   "metadata": {},
   "outputs": [],
   "source": [
    "7.\tWrite a Python program to print even numbers in a list?\n"
   ]
  },
  {
   "cell_type": "code",
   "execution_count": 14,
   "id": "1c58ddd8",
   "metadata": {},
   "outputs": [
    {
     "data": {
      "text/plain": [
       "[2, 4, 6, 8]"
      ]
     },
     "execution_count": 14,
     "metadata": {},
     "output_type": "execute_result"
    }
   ],
   "source": [
    "lst = [1,2,3,4,5,6,7,8,9]\n",
    "\n",
    "lst_even = []\n",
    "\n",
    "for i in lst:\n",
    "    if i%2==0:\n",
    "        lst_even.append(i)\n",
    "\n",
    "lst_even"
   ]
  },
  {
   "cell_type": "code",
   "execution_count": null,
   "id": "7a5ddfb7",
   "metadata": {},
   "outputs": [],
   "source": [
    "8.\tWrite a Python program to print odd numbers in a List?\n"
   ]
  },
  {
   "cell_type": "code",
   "execution_count": 15,
   "id": "39d4a018",
   "metadata": {},
   "outputs": [
    {
     "data": {
      "text/plain": [
       "[1, 3, 5, 7, 9]"
      ]
     },
     "execution_count": 15,
     "metadata": {},
     "output_type": "execute_result"
    }
   ],
   "source": [
    "lst = [1,2,3,4,5,6,7,8,9]\n",
    "\n",
    "lst_odd = []\n",
    "\n",
    "for i in lst:\n",
    "    if i%2:\n",
    "        lst_odd.append(i)\n",
    "\n",
    "lst_odd"
   ]
  },
  {
   "cell_type": "code",
   "execution_count": null,
   "id": "a8a9a58a",
   "metadata": {},
   "outputs": [],
   "source": [
    "9.\tWrite a Python program to Remove empty List from List?\n"
   ]
  },
  {
   "cell_type": "code",
   "execution_count": 17,
   "id": "ba6e1f78",
   "metadata": {},
   "outputs": [
    {
     "data": {
      "text/plain": [
       "[1, 2, 3, 4, 5, 6, 7, 8, 9]"
      ]
     },
     "execution_count": 17,
     "metadata": {},
     "output_type": "execute_result"
    }
   ],
   "source": [
    "lst = [1,2,[],3,4,5,[],6,7,8,9]\n",
    "\n",
    "lst_new = []\n",
    "\n",
    "for i in lst:\n",
    "    if i!=[]:\n",
    "        lst_new.append(i)\n",
    "\n",
    "lst_new"
   ]
  },
  {
   "cell_type": "code",
   "execution_count": null,
   "id": "d785441b",
   "metadata": {},
   "outputs": [],
   "source": [
    "10.\tWrite a Python program to Cloning or Copying a list?\n"
   ]
  },
  {
   "cell_type": "code",
   "execution_count": 19,
   "id": "03e946ad",
   "metadata": {},
   "outputs": [
    {
     "name": "stdout",
     "output_type": "stream",
     "text": [
      "Enter the lenth of your list : 3\n",
      "11\n",
      "22\n",
      "33\n",
      "The List is  [11, 22, 33]\n",
      "Cloning By list copying lst  [11, 22, 33]\n"
     ]
    }
   ],
   "source": [
    "n = int(input(\"Enter the lenth of your list : \"))\n",
    "lst = []\n",
    "\n",
    "for i in range(n):\n",
    "    lst.append(int(input()))\n",
    "print(\"The List is \",lst)\n",
    "\n",
    "lst_copy = lst.copy()\n",
    "print(\"Cloning By list copying lst \",lst_copy)"
   ]
  },
  {
   "cell_type": "code",
   "execution_count": null,
   "id": "e0366c62",
   "metadata": {},
   "outputs": [],
   "source": [
    "11.\tWrite a Python program to Count occurrences of an element in a list?\n"
   ]
  },
  {
   "cell_type": "code",
   "execution_count": 18,
   "id": "b5aa0714",
   "metadata": {},
   "outputs": [
    {
     "name": "stdout",
     "output_type": "stream",
     "text": [
      "Enter the lenth of your list : 6\n",
      "1\n",
      "2\n",
      "3\n",
      "3\n",
      "4\n",
      "5\n",
      "The List is  [1, 2, 3, 3, 4, 5]\n",
      "Enter the element to find its occurance : 3\n",
      "3 has occured 2 times in the list \n"
     ]
    }
   ],
   "source": [
    "lent = int(input(\"Enter the lenth of your list : \"))\n",
    "lst = []\n",
    "\n",
    "for i in range(lent):\n",
    "    lst.append(int(input()))\n",
    "print(\"The List is \",lst)\n",
    "ele= int(input(\"Enter the element to find its occurance : \"))\n",
    "print(ele,\"has occured {} times in the list \".format(lst.count(ele)))"
   ]
  },
  {
   "cell_type": "code",
   "execution_count": null,
   "id": "91f702c8",
   "metadata": {},
   "outputs": [],
   "source": []
  }
 ],
 "metadata": {
  "kernelspec": {
   "display_name": "Python 3 (ipykernel)",
   "language": "python",
   "name": "python3"
  },
  "language_info": {
   "codemirror_mode": {
    "name": "ipython",
    "version": 3
   },
   "file_extension": ".py",
   "mimetype": "text/x-python",
   "name": "python",
   "nbconvert_exporter": "python",
   "pygments_lexer": "ipython3",
   "version": "3.9.7"
  }
 },
 "nbformat": 4,
 "nbformat_minor": 5
}
