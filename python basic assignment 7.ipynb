{
 "cells": [
  {
   "cell_type": "code",
   "execution_count": null,
   "id": "5be57827",
   "metadata": {},
   "outputs": [],
   "source": [
    "\n",
    "### python basic assignment 7\n"
   ]
  },
  {
   "cell_type": "code",
   "execution_count": null,
   "id": "fc36d7c7",
   "metadata": {},
   "outputs": [],
   "source": [
    "1. What is the name of the feature responsible for generating Regex objects?\n",
    "\n",
    "Sol.\n",
    "The re.compile() function returns Regex objects."
   ]
  },
  {
   "cell_type": "code",
   "execution_count": null,
   "id": "31aa837a",
   "metadata": {},
   "outputs": [],
   "source": [
    "2. Why do raw strings often appear in Regex objects?\n",
    "\n",
    "Sol.\n",
    "Raw strings are used so that backslashes do not have to be escaped."
   ]
  },
  {
   "cell_type": "code",
   "execution_count": null,
   "id": "7fb9ab3f",
   "metadata": {},
   "outputs": [],
   "source": [
    "3. What is the return value of the search() method?\n",
    "\n",
    "Sol.\n",
    " The search() method returns Match objects."
   ]
  },
  {
   "cell_type": "code",
   "execution_count": null,
   "id": "d809712a",
   "metadata": {},
   "outputs": [],
   "source": [
    "4. From a Match item, how do you get the actual strings that match the pattern?\n",
    "\n",
    "Sol.\n",
    "The group() method returns strings of the matched text."
   ]
  },
  {
   "cell_type": "code",
   "execution_count": null,
   "id": "6cf84e4a",
   "metadata": {},
   "outputs": [],
   "source": [
    "\n",
    "5. in the regex which created from the r'(\\d\\d\\d)-(\\d\\d\\d-\\d\\d\\d\\d)', what does group zero cover? Group 2? Group 1?\n",
    "\n",
    "Sol.\n",
    "Group 0 is the entire match, group 1 covers the first set of parentheses, and group 2 covers the second set of parentheses."
   ]
  },
  {
   "cell_type": "code",
   "execution_count": null,
   "id": "0d553350",
   "metadata": {},
   "outputs": [],
   "source": [
    "6.In standard expression syntax, parentheses and intervals have distinct meanings. How can you tell a regex that you want it to fit real parentheses and periods?\n",
    "\n",
    "Sol.\n",
    " Periods and parentheses can be escaped with a backslash: \\., \\(, and \\)."
   ]
  },
  {
   "cell_type": "code",
   "execution_count": null,
   "id": "9f30a9ae",
   "metadata": {},
   "outputs": [],
   "source": [
    "7. The findall() method returns a string list or a list of string tuples. What causes it to return one of the two options?\n",
    "Sol.\n",
    "If the regex has no groups, a list of strings is returned. If the regex has groups, a list of tuples of strings is returned."
   ]
  },
  {
   "cell_type": "code",
   "execution_count": null,
   "id": "242816db",
   "metadata": {},
   "outputs": [],
   "source": [
    "8.In standard expressions, what does the | character mean?\n",
    "\n",
    "The | character signifies matching “either, or” between two groups."
   ]
  },
  {
   "cell_type": "code",
   "execution_count": null,
   "id": "e6bc43b4",
   "metadata": {},
   "outputs": [],
   "source": [
    "9.In regular expressions, what does the character ? stand for?\n",
    "\n",
    "The ? character can either mean “match zero or one of the preceding group” or be used to signify non-greedy matching."
   ]
  },
  {
   "cell_type": "code",
   "execution_count": null,
   "id": "f05368e6",
   "metadata": {},
   "outputs": [],
   "source": [
    "10.In regular expressions, what is the difference between the + and * characters?\n",
    "The + matches one or more. The * matches zero or more."
   ]
  },
  {
   "cell_type": "code",
   "execution_count": null,
   "id": "a1a65fc2",
   "metadata": {},
   "outputs": [],
   "source": [
    "11.What is the difference between {4} and {4,5} in regular expression?\n",
    "\n",
    " The {4} matches exactly three instances of the preceding group. The {4,5} matches between four and five instances."
   ]
  },
  {
   "cell_type": "code",
   "execution_count": null,
   "id": "d07251d8",
   "metadata": {},
   "outputs": [],
   "source": [
    "12. What do you mean by the \\d, \\w, and \\s shorthand character classes signify in regular expressions?\n",
    "\n",
    "The \\d, \\w, and \\s shorthand character classes match a single digit, word, or space character, respectively."
   ]
  },
  {
   "cell_type": "code",
   "execution_count": null,
   "id": "bf1c9f3a",
   "metadata": {},
   "outputs": [],
   "source": [
    "13.What do means by \\D, \\W, and \\S shorthand character classes signify in regular expressions?\n",
    "\n",
    "The \\D, \\W, and \\S shorthand character classes match a single character that is not a digit, word, or space character, respectively."
   ]
  },
  {
   "cell_type": "code",
   "execution_count": null,
   "id": "2a4f533f",
   "metadata": {},
   "outputs": [],
   "source": [
    "14.What is the difference between .? and .*?\n",
    "\n",
    "The .? performs a greedy match, and the .*? performs a non-greedy match."
   ]
  },
  {
   "cell_type": "code",
   "execution_count": null,
   "id": "aad25b7c",
   "metadata": {},
   "outputs": [],
   "source": [
    "15.What is the syntax for matching both numbers and lowercase letters with a character class?\n",
    "\n",
    "Either [0-9a-z] or [a-z0-9]"
   ]
  },
  {
   "cell_type": "code",
   "execution_count": null,
   "id": "3a10b481",
   "metadata": {},
   "outputs": [],
   "source": [
    "16.What is the procedure for making a normal expression in regax case insensitive?\n",
    "\n",
    "Passing re.I or re.IGNORECASE as the second argument to re.compile() will make the matching case insensitive."
   ]
  },
  {
   "cell_type": "code",
   "execution_count": null,
   "id": "8b3250a4",
   "metadata": {},
   "outputs": [],
   "source": [
    "17.What does the . character normally match? What does it match if re.DOTALL is passed as 2nd argument in re.compile()?\n",
    "\n",
    "The . character normally matches any character except the newline character. If re.DOTALL is passed as the second argument to re.compile(), then the dot will also match newline characters."
   ]
  },
  {
   "cell_type": "code",
   "execution_count": null,
   "id": "cf726a89",
   "metadata": {},
   "outputs": [],
   "source": [
    "18.If numReg = re.compile(r'\\d+'), what will numRegex.sub('X', '11 drummers, 10 pipers, five rings, 4 hen') return?\n",
    "\n",
    "The sub() call will return the string 'X drummers, X pipers, five rings, X hens'."
   ]
  },
  {
   "cell_type": "code",
   "execution_count": null,
   "id": "5dae5a37",
   "metadata": {},
   "outputs": [],
   "source": [
    "19.What does passing re.VERBOSE as the 2nd argument to re.compile() allow to do?\n",
    "\n",
    "The re.VERBOSE argument allows you to add whitespace and comments to the string passed to re.compile()."
   ]
  },
  {
   "cell_type": "code",
   "execution_count": null,
   "id": "c5e1c649",
   "metadata": {},
   "outputs": [],
   "source": [
    "20.How would you write a regex that match a number with comma for every three digits? It must match the given following: '42' '1,234' '6,368,745' but not the following: '12,34,567' (which has only two digits between the commas) '1234' (which lacks commas)\n",
    "        \n",
    " re.compile(r'^\\d{1,3}(,\\d{3})*$') will create this regex, but other regex strings can produce a similar regular expression.        "
   ]
  },
  {
   "cell_type": "code",
   "execution_count": null,
   "id": "28eb413a",
   "metadata": {},
   "outputs": [],
   "source": [
    "21. How would you write a regex that matches the full name of someone whose last name is Watanabe? You can assume that the first name that comes before it will always be one word that begins with a capital letter. The regex must match the following: 'Haruto Watanabe' 'Alice Watanabe' 'RoboCop Watanabe' but not the following: 'haruto Watanabe' (where the first name is not capitalized) 'Mr. Watanabe' (where the preceding word has a nonletter character) 'Watanabe' (which has no first name) 'Haruto watanabe' (where Watanabe is not capitalized)\n",
    "        \n",
    "        re.compile(r'[A-Z][a-z]*\\sWatanabe')"
   ]
  },
  {
   "cell_type": "code",
   "execution_count": null,
   "id": "3c7e844a",
   "metadata": {},
   "outputs": [],
   "source": [
    "22. How would you write a regex that matches a sentence where the first word is either Alice, Bob, or Carol; the second word is either eats, pets, or throws; the third word is apples, cats, or baseballs; and the sentence ends with a period? This regex should be case-insensitive. It must match the following: 'Alice eats apples.' 'Bob pets cats.' 'Carol throws baseballs.' 'Alice throws Apples.' 'BOB EATS CATS.' but not the following: 'RoboCop eats apples.' 'ALICE THROWS FOOTBALLS.' 'Carol eats 7 cats.'\n",
    "        \n",
    "re.compile(r'(Alice|Bob|Carol)\\s(eats|pets|throws)\\s(apples|cats|baseballs)\\.', re.IGNORECASE)        "
   ]
  }
 ],
 "metadata": {
  "kernelspec": {
   "display_name": "Python 3 (ipykernel)",
   "language": "python",
   "name": "python3"
  },
  "language_info": {
   "codemirror_mode": {
    "name": "ipython",
    "version": 3
   },
   "file_extension": ".py",
   "mimetype": "text/x-python",
   "name": "python",
   "nbconvert_exporter": "python",
   "pygments_lexer": "ipython3",
   "version": "3.9.7"
  }
 },
 "nbformat": 4,
 "nbformat_minor": 5
}
