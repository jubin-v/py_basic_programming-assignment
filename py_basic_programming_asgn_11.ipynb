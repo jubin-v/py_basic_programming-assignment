{
 "cells": [
  {
   "cell_type": "code",
   "execution_count": null,
   "id": "2937ff33",
   "metadata": {},
   "outputs": [],
   "source": [
    "1. Write a Python program to find words which are greater than given length k?\n"
   ]
  },
  {
   "cell_type": "code",
   "execution_count": 9,
   "id": "431bcb96",
   "metadata": {},
   "outputs": [
    {
     "name": "stdout",
     "output_type": "stream",
     "text": [
      "word lenth more than 4 is ['rises']\n"
     ]
    }
   ],
   "source": [
    "def wordlen_selector(k, str):\n",
    "    txt = str.split()\n",
    "    words = []\n",
    "    for i in txt:\n",
    "        if len(i)>k:\n",
    "            words.append(i)\n",
    "    return words\n",
    "str = \"sun rises in the east\"\n",
    "k=4\n",
    "print (f\"word lenth more than {k} is {wordlen_selector(k,str)}\")"
   ]
  },
  {
   "cell_type": "code",
   "execution_count": 4,
   "id": "fc2401c6",
   "metadata": {},
   "outputs": [],
   "source": [
    "2. Write a Python program for removing i-th character from a string?\n"
   ]
  },
  {
   "cell_type": "code",
   "execution_count": 20,
   "id": "eee4bfb8",
   "metadata": {},
   "outputs": [
    {
     "name": "stdout",
     "output_type": "stream",
     "text": [
      "4th element is removed and new string is :  seve seas and more\n"
     ]
    }
   ],
   "source": [
    "str = \"seven seas and more\"\n",
    "i=4\n",
    "\n",
    "def remove(str,i):\n",
    "    new_str = \"\"\n",
    "    for j in range(len(str)):\n",
    "        if j!=i:\n",
    "            new_str+=str[j]\n",
    "    return new_str\n",
    "\n",
    "print(f\"{i}th element is removed and new string is :  {remove(str,i)}\")\n",
    "        "
   ]
  },
  {
   "cell_type": "code",
   "execution_count": null,
   "id": "196989c7",
   "metadata": {},
   "outputs": [],
   "source": [
    "3. Write a Python program to split and join a string?\n"
   ]
  },
  {
   "cell_type": "code",
   "execution_count": 23,
   "id": "12945312",
   "metadata": {},
   "outputs": [
    {
     "name": "stdout",
     "output_type": "stream",
     "text": [
      "Spliting a string :  ['DL', 'and', 'ML']\n",
      "Joining a string :  DL-and-ML\n"
     ]
    }
   ],
   "source": [
    "str = \"DL and ML\"\n",
    "str = str.split(\" \") \n",
    "print(\"Spliting a string : \",str)\n",
    "\n",
    "\n",
    "str2 = \"-\".join(str)\n",
    "print(\"Joining a string : \",str2)"
   ]
  },
  {
   "cell_type": "code",
   "execution_count": null,
   "id": "34f69207",
   "metadata": {},
   "outputs": [],
   "source": [
    "4. Write a Python to check if a given string is binary string or not?\n"
   ]
  },
  {
   "cell_type": "code",
   "execution_count": 30,
   "id": "d7c26fdc",
   "metadata": {},
   "outputs": [
    {
     "name": "stdout",
     "output_type": "stream",
     "text": [
      " not binary string\n"
     ]
    }
   ],
   "source": [
    "binary = \"01\"\n",
    "\n",
    "str = \"10101023\"\n",
    "\n",
    "for i in range(len(str)):\n",
    "    if str[i] not in binary:\n",
    "        print(\" not binary string\")\n",
    "        break\n",
    "else:\n",
    "        print(\"binary\")"
   ]
  },
  {
   "cell_type": "code",
   "execution_count": null,
   "id": "953cac88",
   "metadata": {},
   "outputs": [],
   "source": [
    "5. Write a Python program to find uncommon words from two Strings?\n"
   ]
  },
  {
   "cell_type": "code",
   "execution_count": 31,
   "id": "2dd296b1",
   "metadata": {},
   "outputs": [
    {
     "name": "stdout",
     "output_type": "stream",
     "text": [
      "Enter the string a : am good\n",
      "Enter the string b : am bad\n",
      "The list of un Common words :   good bad\n"
     ]
    }
   ],
   "source": [
    "def unCommon(a,b):\n",
    "    list_one = a.split()\n",
    "    list_two = b.split()\n",
    "    notcom =''\n",
    "    \n",
    "    for i in list_one:\n",
    "        if i not in list_two:\n",
    "            notcom = notcom +\" \"+ i\n",
    "    for j in list_two:\n",
    "        if j not in list_one:\n",
    "            notcom = notcom +\" \"+ j\n",
    "    return notcom\n",
    "\n",
    "a = input(\"Enter the string a : \").lower()\n",
    "b = input(\"Enter the string b : \").lower()\n",
    "\n",
    "print(\"The list of un Common words : \", unCommon(a,b))"
   ]
  },
  {
   "cell_type": "code",
   "execution_count": null,
   "id": "ec086563",
   "metadata": {},
   "outputs": [],
   "source": [
    "6. Write a Python to find all duplicate characters in string?\n"
   ]
  },
  {
   "cell_type": "code",
   "execution_count": 33,
   "id": "9f93fa1e",
   "metadata": {},
   "outputs": [
    {
     "name": "stdout",
     "output_type": "stream",
     "text": [
      "Enter the string a : red car\n"
     ]
    },
    {
     "data": {
      "text/plain": [
       "['r']"
      ]
     },
     "execution_count": 33,
     "metadata": {},
     "output_type": "execute_result"
    }
   ],
   "source": [
    "str = input(\"Enter the string a : \").lower()\n",
    "duplicate = []\n",
    "\n",
    "for i in str:\n",
    "    if str.count(i) > 1 :\n",
    "        if i not in duplicate:\n",
    "            duplicate.append(i)\n",
    "        \n",
    "duplicate"
   ]
  },
  {
   "cell_type": "code",
   "execution_count": null,
   "id": "760751a6",
   "metadata": {},
   "outputs": [],
   "source": [
    "7. Write a Python Program to check if a string contains any special character?"
   ]
  },
  {
   "cell_type": "code",
   "execution_count": 34,
   "id": "6e6c15ca",
   "metadata": {},
   "outputs": [
    {
     "name": "stdout",
     "output_type": "stream",
     "text": [
      "Enter the string a : congrats!!!\n",
      "String congrats!!! has special charecter/s : ['!', '!', '!']\n"
     ]
    }
   ],
   "source": [
    "\n",
    "import string\n",
    "\n",
    "str_char = string.punctuation\n",
    "speci_str = []\n",
    "\n",
    "str = input(\"Enter the string a : \").lower()\n",
    "for i in str:\n",
    "    if i in str_char:\n",
    "        speci_str.append(i)\n",
    "if len(speci_str) > 0:\n",
    "    print(\"String {} has special charecter/s : {}\".format(str,speci_str))"
   ]
  },
  {
   "cell_type": "code",
   "execution_count": null,
   "id": "ca45ad04",
   "metadata": {},
   "outputs": [],
   "source": []
  }
 ],
 "metadata": {
  "kernelspec": {
   "display_name": "Python 3 (ipykernel)",
   "language": "python",
   "name": "python3"
  },
  "language_info": {
   "codemirror_mode": {
    "name": "ipython",
    "version": 3
   },
   "file_extension": ".py",
   "mimetype": "text/x-python",
   "name": "python",
   "nbconvert_exporter": "python",
   "pygments_lexer": "ipython3",
   "version": "3.9.7"
  }
 },
 "nbformat": 4,
 "nbformat_minor": 5
}
