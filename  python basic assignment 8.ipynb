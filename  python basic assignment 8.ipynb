{
 "cells": [
  {
   "cell_type": "code",
   "execution_count": null,
   "id": "dfda8b6a",
   "metadata": {},
   "outputs": [],
   "source": [
    "### python basic assignment 8\n"
   ]
  },
  {
   "cell_type": "code",
   "execution_count": null,
   "id": "b4c179e3",
   "metadata": {},
   "outputs": [],
   "source": [
    "1. 1. Is the Python Standard Library included with PyInputPlus?\n",
    "\n",
    "No. PyInputPlus is a third-party module and doesn’t come with the Python Standard Library."
   ]
  },
  {
   "cell_type": "code",
   "execution_count": null,
   "id": "3f0201c8",
   "metadata": {},
   "outputs": [],
   "source": [
    "2. Why is PyInputPlus commonly imported with import pyinputplus as pypi?\n",
    "\n",
    "This optionally makes your code shorter to type: you can type pyip.inputStr() instead of pyinputplus.inputStr()."
   ]
  },
  {
   "cell_type": "code",
   "execution_count": null,
   "id": "55baa3a1",
   "metadata": {},
   "outputs": [],
   "source": [
    "3. How do you distinguish between inputInt() and inputFloat()?\n",
    "\n",
    "The inputInt() function returns an int value, while the inputFloat() function returns a float value. This is the difference between returning 4 and 4.0."
   ]
  },
  {
   "cell_type": "code",
   "execution_count": null,
   "id": "a1005275",
   "metadata": {},
   "outputs": [],
   "source": [
    "4. Using PyInputPlus, how do you ensure that the user enters a whole number between 0 and 99?\n",
    "\n",
    "Call pyip.inputint(min=0, max=99)."
   ]
  },
  {
   "cell_type": "code",
   "execution_count": null,
   "id": "cfa56eb7",
   "metadata": {},
   "outputs": [],
   "source": [
    "5. What is transferred to the keyword arguments allowRegexes and blockRegexes?\n",
    "\n",
    "A list of regex strings that are either explicitly allowed or denied"
   ]
  },
  {
   "cell_type": "code",
   "execution_count": null,
   "id": "f5c419c4",
   "metadata": {},
   "outputs": [],
   "source": [
    "6. If a blank input is entered three times, what does inputStr(limit=3) do?\n",
    "\n",
    "The function will raise RetryLimitException."
   ]
  },
  {
   "cell_type": "code",
   "execution_count": null,
   "id": "78040fdd",
   "metadata": {},
   "outputs": [],
   "source": [
    "7. If blank input is entered three times, what does inputStr(limit=3, default='hello') do?\n",
    "\n",
    "The function returns the value 'hello'."
   ]
  }
 ],
 "metadata": {
  "kernelspec": {
   "display_name": "Python 3 (ipykernel)",
   "language": "python",
   "name": "python3"
  },
  "language_info": {
   "codemirror_mode": {
    "name": "ipython",
    "version": 3
   },
   "file_extension": ".py",
   "mimetype": "text/x-python",
   "name": "python",
   "nbconvert_exporter": "python",
   "pygments_lexer": "ipython3",
   "version": "3.9.7"
  }
 },
 "nbformat": 4,
 "nbformat_minor": 5
}
