{
 "cells": [
  {
   "cell_type": "code",
   "execution_count": null,
   "id": "4738c43c",
   "metadata": {},
   "outputs": [],
   "source": [
    "1.\tWrite a Python program to print \"Hello Python\"?"
   ]
  },
  {
   "cell_type": "code",
   "execution_count": 1,
   "id": "96da93ce",
   "metadata": {},
   "outputs": [
    {
     "name": "stdout",
     "output_type": "stream",
     "text": [
      "Hello python\n"
     ]
    }
   ],
   "source": [
    "print(\"Hello python\")"
   ]
  },
  {
   "cell_type": "code",
   "execution_count": null,
   "id": "4ae89fea",
   "metadata": {},
   "outputs": [],
   "source": [
    "2.\tWrite a Python program to do arithmetical operations addition and division.?"
   ]
  },
  {
   "cell_type": "code",
   "execution_count": 21,
   "id": "43f6c66e",
   "metadata": {},
   "outputs": [
    {
     "name": "stdout",
     "output_type": "stream",
     "text": [
      "enter a number: 33\n",
      "enter a number: 45\n",
      " enter code for additon  as 1, division as 2:  2\n",
      "0.7333333333333333\n"
     ]
    }
   ],
   "source": [
    "a=int(input(\"enter a number: \"))\n",
    "b=int(input(\"enter a number: \"))\n",
    "operation = int(input(\" enter code for additon  as 1, division as 2:  \"))\n",
    "sum=a+b\n",
    "mul=a/b\n",
    "\n",
    "if operation ==1:\n",
    "    print(sum)\n",
    "elif operation== 2:\n",
    "    print(mul)\n",
    "else:\n",
    "    print(\"please enter correct operator and values\")"
   ]
  },
  {
   "cell_type": "code",
   "execution_count": null,
   "id": "00620031",
   "metadata": {},
   "outputs": [],
   "source": [
    "3.\tWrite a Python program to find the area of a triangle?"
   ]
  },
  {
   "cell_type": "code",
   "execution_count": 25,
   "id": "8fa7d6f9",
   "metadata": {},
   "outputs": [
    {
     "name": "stdout",
     "output_type": "stream",
     "text": [
      "enter length of base of triangle: 12\n",
      "enter length of height of triangle: 12\n",
      "Area of trangle is :  72.0\n"
     ]
    }
   ],
   "source": [
    "b=int(input(\"enter length of base of triangle: \"))\n",
    "h=int(input(\"enter length of height of triangle: \"))\n",
    "Area = 1/2*b*h # area of 1/2 x length of base x length of height.\n",
    "print(\"Area of trangle is : \", Area)"
   ]
  },
  {
   "cell_type": "code",
   "execution_count": null,
   "id": "e22ada29",
   "metadata": {},
   "outputs": [],
   "source": [
    "4.\tWrite a Python program to swap two variables?"
   ]
  },
  {
   "cell_type": "code",
   "execution_count": 32,
   "id": "17590c5a",
   "metadata": {},
   "outputs": [
    {
     "name": "stdout",
     "output_type": "stream",
     "text": [
      "enter value of x : 33\n",
      "enter value of y: 25\n",
      "value of x after swaaping is:  25 \n",
      "value of y after swaaping is:  33\n"
     ]
    }
   ],
   "source": [
    "x=int(input(\"enter value of x : \"))\n",
    "y=int(input(\"enter value of y: \"))\n",
    "x=a # a is a temporay variable\n",
    "x=y\n",
    "y=a\n",
    "\n",
    "print(\"value of x after swaaping is: \", x , \"\\nvalue of y after swaaping is: \",y )"
   ]
  },
  {
   "cell_type": "code",
   "execution_count": null,
   "id": "33d35f86",
   "metadata": {},
   "outputs": [],
   "source": [
    "5.\tWrite a Python program to generate a random number?"
   ]
  },
  {
   "cell_type": "code",
   "execution_count": 34,
   "id": "659d62b1",
   "metadata": {},
   "outputs": [
    {
     "name": "stdout",
     "output_type": "stream",
     "text": [
      "87\n"
     ]
    }
   ],
   "source": [
    "import random\n",
    "x = random.randint(0,100)\n",
    "print(x)"
   ]
  },
  {
   "cell_type": "code",
   "execution_count": null,
   "id": "6bcd81bb",
   "metadata": {},
   "outputs": [],
   "source": []
  }
 ],
 "metadata": {
  "kernelspec": {
   "display_name": "Python 3 (ipykernel)",
   "language": "python",
   "name": "python3"
  },
  "language_info": {
   "codemirror_mode": {
    "name": "ipython",
    "version": 3
   },
   "file_extension": ".py",
   "mimetype": "text/x-python",
   "name": "python",
   "nbconvert_exporter": "python",
   "pygments_lexer": "ipython3",
   "version": "3.9.7"
  }
 },
 "nbformat": 4,
 "nbformat_minor": 5
}
