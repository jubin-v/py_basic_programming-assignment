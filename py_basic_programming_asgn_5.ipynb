{
 "cells": [
  {
   "cell_type": "code",
   "execution_count": null,
   "id": "b4bbb9b9",
   "metadata": {},
   "outputs": [],
   "source": [
    "1.\tWrite a Python Program to Find LCM?"
   ]
  },
  {
   "cell_type": "code",
   "execution_count": 21,
   "id": "f54e0a4b",
   "metadata": {},
   "outputs": [
    {
     "name": "stdout",
     "output_type": "stream",
     "text": [
      "enter first number: 24\n",
      "enter second number: 36\n",
      " LCM of 24 and 36 is :  72\n"
     ]
    }
   ],
   "source": [
    "\n",
    "x=int(input(\"enter first number: \"))\n",
    "y=int(input(\"enter second number: \"))\n",
    "\n",
    "if x > y:  \n",
    "    greater = x  \n",
    "else:  \n",
    "    greater = y  \n",
    "    \n",
    "value = greater\n",
    "\n",
    "while True:\n",
    "    if((greater % x == 0) and (greater % y == 0)):  \n",
    "        lcm = greater  \n",
    "        break\n",
    "    else:\n",
    "    \n",
    "        greater = greater + value\n",
    "        \n",
    "print (\" LCM of {} and {} is : \" .format(x,y),lcm)"
   ]
  },
  {
   "cell_type": "code",
   "execution_count": null,
   "id": "0e24d02e",
   "metadata": {},
   "outputs": [],
   "source": [
    "2.\tWrite a Python Program to Find HCF?"
   ]
  },
  {
   "cell_type": "code",
   "execution_count": 51,
   "id": "d6c783a8",
   "metadata": {},
   "outputs": [
    {
     "name": "stdout",
     "output_type": "stream",
     "text": [
      "enter first number: 24\n",
      "enter second number: 36\n",
      " HCF of 24 and 36 is :  12\n"
     ]
    }
   ],
   "source": [
    "x=int(input(\"enter first number: \"))\n",
    "y=int(input(\"enter second number: \"))\n",
    "  \n",
    "    \n",
    "for i in range(1,smaller+1):\n",
    "    if((x % i == 0) and (y % i == 0)):  \n",
    "        hcf = i\n",
    "        \n",
    "print (\" HCF of {} and {} is : \" .format(x,y),hcf)"
   ]
  },
  {
   "cell_type": "code",
   "execution_count": null,
   "id": "6f089283",
   "metadata": {},
   "outputs": [],
   "source": [
    "3.\tWrite a Python Program to Convert Decimal to Binary, Octal and Hexadecimal?"
   ]
  },
  {
   "cell_type": "code",
   "execution_count": 79,
   "id": "6c10d7b3",
   "metadata": {},
   "outputs": [
    {
     "name": "stdout",
     "output_type": "stream",
     "text": [
      "enter number for bin/hex/octal conversion: 100\n",
      "binary of 100 is : 1100100\n",
      "hexadecimal of 100 is : 64\n",
      "octal of 100 is : 144\n"
     ]
    }
   ],
   "source": [
    "a=x=int(input(\"enter number for bin/hex/octal conversion: \"))\n",
    "print(\"binary of {} is :\" .format(a), bin(a)[2:])\n",
    "print(\"hexadecimal of {} is :\" .format(a),hex(a)[2:])\n",
    "print(\"octal of {} is :\" .format(a),oct(a)[2:])"
   ]
  },
  {
   "cell_type": "code",
   "execution_count": null,
   "id": "0c51836a",
   "metadata": {},
   "outputs": [],
   "source": [
    "4.\tWrite a Python Program To Find ASCII value of a character?"
   ]
  },
  {
   "cell_type": "code",
   "execution_count": 86,
   "id": "10a7e0a3",
   "metadata": {},
   "outputs": [
    {
     "name": "stdout",
     "output_type": "stream",
     "text": [
      "Enter a charactor whose ASCII vlaue to find: a\n",
      "97\n"
     ]
    }
   ],
   "source": [
    "value= input(\"Enter a charactor whose ASCII vlaue to find: \")\n",
    "print(ord(value))"
   ]
  },
  {
   "cell_type": "code",
   "execution_count": null,
   "id": "a9212a62",
   "metadata": {},
   "outputs": [],
   "source": [
    "5.\tWrite a Python Program to Make a Simple Calculator with 4 basic mathematical operations?"
   ]
  },
  {
   "cell_type": "code",
   "execution_count": 96,
   "id": "51dd6bb9",
   "metadata": {},
   "outputs": [
    {
     "name": "stdout",
     "output_type": "stream",
     "text": [
      "select operation:  1 - add, 2 -sustract, 3-multiply, 4-division\n",
      "select operation :3\n",
      "enter first number: 12\n",
      "enter second number: 12\n",
      "product is :  144.0\n"
     ]
    }
   ],
   "source": [
    "def add(a,b):\n",
    "    return a+b\n",
    "def subtract(a,b):\n",
    "    return a-b\n",
    "def multiply(a,b):\n",
    "    return a*b\n",
    "def divide(a,b):\n",
    "    return a/b\n",
    "\n",
    "print(\"select operation:  1 - add, 2 -sustract, 3-multiply, 4-division\")\n",
    "operation = int(input(\"select operation :\"))\n",
    "\n",
    "if operation in (1,2,3,4):\n",
    "    a=float(input(\"enter first number: \"))\n",
    "    b=float(input(\"enter second number: \"))\n",
    "    \n",
    "    if operation ==1:\n",
    "        print (\"sum is : \", add(a,b))\n",
    "    elif operation ==2:\n",
    "        print (\"difference is : \", subtract(a,b))\n",
    "    elif operation ==3:\n",
    "        print (\"product is : \", multiply(a,b))\n",
    "    elif operation ==4:\n",
    "        print (\"result is : \", divide(a,b))\n",
    "        \n",
    "else:\n",
    "    print(\"select correct operation\")"
   ]
  },
  {
   "cell_type": "code",
   "execution_count": null,
   "id": "5acda862",
   "metadata": {},
   "outputs": [],
   "source": []
  }
 ],
 "metadata": {
  "kernelspec": {
   "display_name": "Python 3 (ipykernel)",
   "language": "python",
   "name": "python3"
  },
  "language_info": {
   "codemirror_mode": {
    "name": "ipython",
    "version": 3
   },
   "file_extension": ".py",
   "mimetype": "text/x-python",
   "name": "python",
   "nbconvert_exporter": "python",
   "pygments_lexer": "ipython3",
   "version": "3.9.7"
  }
 },
 "nbformat": 4,
 "nbformat_minor": 5
}
