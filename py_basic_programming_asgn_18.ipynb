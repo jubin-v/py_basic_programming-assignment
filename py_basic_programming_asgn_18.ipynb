{
 "cells": [
  {
   "cell_type": "code",
   "execution_count": null,
   "id": "160e630b",
   "metadata": {},
   "outputs": [],
   "source": [
    "Q. Create a function that takes a list of non-negative integers and strings and return a new list\n",
    "\n",
    "without the strings. Examples filter_list([1, 2, 'a', 'b']) ➞ [1, 2] filter_list([1, 'a', 'b', 0, 15]) ➞ [1, 0, 15] filter_list([1, 2, 'aasf', '1', '123', 123]) ➞ [1, 2, 123]"
   ]
  },
  {
   "cell_type": "code",
   "execution_count": 1,
   "id": "b5645f4b",
   "metadata": {},
   "outputs": [
    {
     "name": "stdout",
     "output_type": "stream",
     "text": [
      "[1, 2]\n"
     ]
    }
   ],
   "source": [
    "l = [1,2,'a','b']\n",
    "\n",
    "def filter_list(l):\n",
    "    new_list = []\n",
    "    for x in l:\n",
    "        if type(x) == int:\n",
    "            new_list.append(x)\n",
    "    return new_list\n",
    "\n",
    "print(filter_list(l))"
   ]
  },
  {
   "cell_type": "code",
   "execution_count": null,
   "id": "f1dea079",
   "metadata": {},
   "outputs": [],
   "source": [
    "Q. The 'Reverser' takes a string as input and returns that string in reverse order, with the\n",
    "\n",
    "opposite case. Examples reverse('Hello World') ➞ 'DLROw OLLEh' reverse('ReVeRsE') ➞ 'eSrEvEr' reverse('Radar') ➞ 'RADAr'"
   ]
  },
  {
   "cell_type": "code",
   "execution_count": 2,
   "id": "ac2098e7",
   "metadata": {},
   "outputs": [
    {
     "name": "stdout",
     "output_type": "stream",
     "text": [
      "DLROw OLLEh\n"
     ]
    }
   ],
   "source": [
    "def reverse(str):\n",
    "    str = str[::-1]\n",
    "    return str.swapcase()\n",
    "    \n",
    "print(reverse('Hello World'))"
   ]
  },
  {
   "cell_type": "code",
   "execution_count": null,
   "id": "e904108c",
   "metadata": {},
   "outputs": [],
   "source": [
    "Q. You can assign variables from lists like this:\n",
    "\n",
    "lst = [1, 2, 3, 4, 5, 6] first = lst[0] middle = lst[1:-1] last = lst[-1] print(first) ➞ outputs 1 print(middle) ➞ outputs [2, 3, 4, 5] print(last) ➞ outputs 6 With Python 3, you can assign variables from lists in a much more succinct way. Create variables first, middle and last from the given list using destructuring assignment (check the Resources tab for some examples), where: first ➞ 1 middle ➞ [2, 3, 4, 5] last ➞ 6\n",
    "\n",
    "Your task is to unpack the list writeyourcodehere into three variables, being first, middle, and last, with middle being everything in between the first and last element. Then print all three variables."
   ]
  },
  {
   "cell_type": "code",
   "execution_count": 3,
   "id": "bbec4b2f",
   "metadata": {},
   "outputs": [
    {
     "data": {
      "text/plain": [
       "[2, 3, 4, 5]"
      ]
     },
     "execution_count": 3,
     "metadata": {},
     "output_type": "execute_result"
    }
   ],
   "source": [
    "lst = [1, 2, 3, 4, 5, 6]\n",
    "first ,*middle,last = lst\n",
    "middle"
   ]
  },
  {
   "cell_type": "code",
   "execution_count": null,
   "id": "8d3a6890",
   "metadata": {},
   "outputs": [],
   "source": [
    "\n",
    "Q. Write a function that calculates the factorial of a number recursively.\n",
    "\n",
    "Examples factorial(5) ➞ 120 factorial(3) ➞ 6 factorial(1) ➞ 1 factorial(0) ➞ 1"
   ]
  },
  {
   "cell_type": "code",
   "execution_count": 4,
   "id": "81681e50",
   "metadata": {},
   "outputs": [
    {
     "name": "stdout",
     "output_type": "stream",
     "text": [
      "enter a number :7\n",
      "Factorial of 7 is 5040\n"
     ]
    }
   ],
   "source": [
    "def factorial(n):     \n",
    "    if n == 0:\n",
    "        return 1    \n",
    "    return n * factorial(n-1)\n",
    "\n",
    "num = int(input('enter a number :'))\n",
    "print(\"Factorial of\", num, \"is\", factorial(num))"
   ]
  },
  {
   "cell_type": "code",
   "execution_count": null,
   "id": "f7b18a64",
   "metadata": {},
   "outputs": [],
   "source": [
    "Q. Write a function that moves all elements of one type to the end of the list.\n",
    "\n",
    "Examples move_to_end([1, 3, 2, 4, 4, 1], 1) ➞ [3, 2, 4, 4, 1, 1] Move all the 1s to the end of the array. move_to_end([7, 8, 9, 1, 2, 3, 4], 9) ➞ [7, 8, 1, 2, 3, 4, 9] move_to_end(['a', 'a', 'a', 'b'], 'a') ➞ ['b', 'a', 'a', 'a']"
   ]
  },
  {
   "cell_type": "code",
   "execution_count": 5,
   "id": "0fbc42f1",
   "metadata": {},
   "outputs": [],
   "source": [
    "def move_to_end(array, toMove):\n",
    "     \n",
    "    i = 0\n",
    " \n",
    "    \n",
    "    j = len(array) - 1\n",
    "  \n",
    "   \n",
    "    while (i < j):\n",
    "  \n",
    "        while (i < j and array[j] == toMove):\n",
    "  \n",
    "           \n",
    "            j-=1\n",
    "  \n",
    "        if (array[i] == toMove):\n",
    "  \n",
    "            # swap the two elements\n",
    "            # in the array\n",
    "            array[i], array[j] = array[j] , array[i]\n",
    "  \n",
    "       \n",
    "        i += 1\n",
    "  \n",
    "    # return the result\n",
    "    return array"
   ]
  },
  {
   "cell_type": "code",
   "execution_count": 6,
   "id": "95daa4d9",
   "metadata": {},
   "outputs": [
    {
     "name": "stdout",
     "output_type": "stream",
     "text": [
      "7 8 4 1 2 3 9 "
     ]
    }
   ],
   "source": [
    "arr = [7, 8, 9, 1, 2, 3, 4]\n",
    "a = 9\n",
    "ans = move_to_end(arr, a)\n",
    "for i in range(len(arr)):\n",
    "    print(ans[i] ,end= \" \")"
   ]
  },
  {
   "cell_type": "code",
   "execution_count": 7,
   "id": "201d4449",
   "metadata": {},
   "outputs": [
    {
     "name": "stdout",
     "output_type": "stream",
     "text": [
      "b a a a "
     ]
    }
   ],
   "source": [
    "arr = ['a', 'a', 'a', 'b']\n",
    "k = 'a'\n",
    "ans = move_to_end(arr, k)\n",
    "for i in range(len(arr)):\n",
    "    print(ans[i] ,end= \" \")"
   ]
  },
  {
   "cell_type": "code",
   "execution_count": null,
   "id": "87809fbe",
   "metadata": {},
   "outputs": [],
   "source": []
  }
 ],
 "metadata": {
  "kernelspec": {
   "display_name": "Python 3 (ipykernel)",
   "language": "python",
   "name": "python3"
  },
  "language_info": {
   "codemirror_mode": {
    "name": "ipython",
    "version": 3
   },
   "file_extension": ".py",
   "mimetype": "text/x-python",
   "name": "python",
   "nbconvert_exporter": "python",
   "pygments_lexer": "ipython3",
   "version": "3.9.7"
  }
 },
 "nbformat": 4,
 "nbformat_minor": 5
}
