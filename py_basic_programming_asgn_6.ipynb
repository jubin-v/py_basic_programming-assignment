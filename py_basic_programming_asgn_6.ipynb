{
 "cells": [
  {
   "cell_type": "code",
   "execution_count": null,
   "id": "af4ce5bf",
   "metadata": {},
   "outputs": [],
   "source": [
    "1.\tWrite a Python Program to Display Fibonacci Sequence Using Recursion?"
   ]
  },
  {
   "cell_type": "code",
   "execution_count": 4,
   "id": "4dba63b4",
   "metadata": {},
   "outputs": [
    {
     "name": "stdout",
     "output_type": "stream",
     "text": [
      "enter the value for fib sequence : 13\n",
      "0\n",
      "1\n",
      "1\n",
      "2\n",
      "3\n",
      "5\n",
      "8\n",
      "13\n",
      "21\n",
      "34\n",
      "55\n",
      "89\n",
      "144\n"
     ]
    }
   ],
   "source": [
    "def fib_rec(value):\n",
    "    if value <=1:\n",
    "        return value\n",
    "    else:\n",
    "        return(fib_rec(value-1)+fib_rec(value-2))\n",
    "\n",
    "terms= int(input(\"enter the value for fib sequence : \"))\n",
    "\n",
    "if terms<=0:\n",
    "    print(\"positive intiger\")\n",
    "else:\n",
    "    for i in range  (terms):\n",
    "        print(fib_rec(i))"
   ]
  },
  {
   "cell_type": "code",
   "execution_count": null,
   "id": "f5fd220d",
   "metadata": {},
   "outputs": [],
   "source": [
    "2.\tWrite a Python Program to Find Factorial of Number Using Recursion?"
   ]
  },
  {
   "cell_type": "code",
   "execution_count": 4,
   "id": "412022ab",
   "metadata": {},
   "outputs": [
    {
     "name": "stdout",
     "output_type": "stream",
     "text": [
      "enter the number to find factorial : 7\n",
      "5040\n"
     ]
    }
   ],
   "source": [
    "def factorial(value):\n",
    "    if value ==1:\n",
    "        return value\n",
    "    else:\n",
    "        return value*factorial(value-1)\n",
    "\n",
    "number= int(input(\"enter the number to find factorial : \"))\n",
    "\n",
    "if number<=0:\n",
    "    print(\"positive intiger\")\n",
    "else:\n",
    "    \n",
    "        print(factorial(number))"
   ]
  },
  {
   "cell_type": "code",
   "execution_count": null,
   "id": "2c96b8e6",
   "metadata": {},
   "outputs": [],
   "source": [
    "3.\tWrite a Python Program to calculate your Body Mass Index?"
   ]
  },
  {
   "cell_type": "code",
   "execution_count": 7,
   "id": "b1de9a6d",
   "metadata": {},
   "outputs": [
    {
     "name": "stdout",
     "output_type": "stream",
     "text": [
      "enter the weight in kgs : 78\n",
      "enter the height in mtr : 1.71\n",
      " BMI is equal to : 26.674874320303687\n"
     ]
    }
   ],
   "source": [
    "# BMI= (weight(kg)/(height(m)*height(m)))\n",
    "\n",
    "weight= float(input(\"enter the weight in kgs : \"))\n",
    "height= float(input(\"enter the height in mtr : \"))\n",
    "\n",
    "BMI= weight/(height*height)\n",
    "\n",
    "print(\" BMI is equal to :\",BMI)"
   ]
  },
  {
   "cell_type": "code",
   "execution_count": null,
   "id": "6ab87f98",
   "metadata": {},
   "outputs": [],
   "source": [
    "4.\tWrite a Python Program to calculate the natural logarithm of any number?"
   ]
  },
  {
   "cell_type": "code",
   "execution_count": 9,
   "id": "bc1566d8",
   "metadata": {},
   "outputs": [
    {
     "name": "stdout",
     "output_type": "stream",
     "text": [
      "enter the number to find natural log : 1\n",
      "0.0\n"
     ]
    }
   ],
   "source": [
    "import math\n",
    "number= float(input(\"enter the number to find natural log : \"))\n",
    "print(math.log(number))"
   ]
  },
  {
   "cell_type": "code",
   "execution_count": null,
   "id": "6179dfa5",
   "metadata": {},
   "outputs": [],
   "source": [
    "5.\tWrite a Python Program for cube sum of first n natural numbers?"
   ]
  },
  {
   "cell_type": "code",
   "execution_count": 5,
   "id": "9ab8fd11",
   "metadata": {},
   "outputs": [
    {
     "name": "stdout",
     "output_type": "stream",
     "text": [
      "enter the number to find cube sum : 3\n",
      "36\n"
     ]
    }
   ],
   "source": [
    "def cube_sum(value):\n",
    "    sum=0\n",
    "    for i in range (1,value+1):\n",
    "        sum = sum+i**3\n",
    "    return sum\n",
    "\n",
    "number= int(input(\"enter the number to find cube sum : \"))\n",
    "\n",
    "if number<=0:\n",
    "    print(\"positive intiger\")\n",
    "else:\n",
    "    \n",
    "        print(cube_sum(number))"
   ]
  },
  {
   "cell_type": "code",
   "execution_count": null,
   "id": "cf9d7801",
   "metadata": {},
   "outputs": [],
   "source": []
  }
 ],
 "metadata": {
  "kernelspec": {
   "display_name": "Python 3 (ipykernel)",
   "language": "python",
   "name": "python3"
  },
  "language_info": {
   "codemirror_mode": {
    "name": "ipython",
    "version": 3
   },
   "file_extension": ".py",
   "mimetype": "text/x-python",
   "name": "python",
   "nbconvert_exporter": "python",
   "pygments_lexer": "ipython3",
   "version": "3.9.7"
  }
 },
 "nbformat": 4,
 "nbformat_minor": 5
}
