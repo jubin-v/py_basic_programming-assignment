{
 "cells": [
  {
   "cell_type": "code",
   "execution_count": null,
   "id": "68252b02",
   "metadata": {},
   "outputs": [],
   "source": [
    "# py_basic_programming_asgn_7"
   ]
  },
  {
   "cell_type": "code",
   "execution_count": null,
   "id": "96ccfdac",
   "metadata": {},
   "outputs": [],
   "source": [
    "1.\tWrite a Python Program to find sum of array?\n"
   ]
  },
  {
   "cell_type": "code",
   "execution_count": 6,
   "id": "d2c0529c",
   "metadata": {},
   "outputs": [
    {
     "data": {
      "text/plain": [
       "15"
      ]
     },
     "execution_count": 6,
     "metadata": {},
     "output_type": "execute_result"
    }
   ],
   "source": [
    "#sol.\n",
    "\n",
    "import numpy as np\n",
    "\n",
    "a= np.array([1,2,3,4,5])\n",
    "\n",
    "a_sum = sum(a)\n",
    "a_sum"
   ]
  },
  {
   "cell_type": "code",
   "execution_count": null,
   "id": "b0bbb0d0",
   "metadata": {},
   "outputs": [],
   "source": [
    "2.\tWrite a Python Program to find largest element in an array?\n"
   ]
  },
  {
   "cell_type": "code",
   "execution_count": 7,
   "id": "04e36d74",
   "metadata": {},
   "outputs": [
    {
     "data": {
      "text/plain": [
       "5"
      ]
     },
     "execution_count": 7,
     "metadata": {},
     "output_type": "execute_result"
    }
   ],
   "source": [
    "max(a)"
   ]
  },
  {
   "cell_type": "code",
   "execution_count": null,
   "id": "5acdaf20",
   "metadata": {},
   "outputs": [],
   "source": [
    "3.\tWrite a Python Program for array rotation?\n"
   ]
  },
  {
   "cell_type": "code",
   "execution_count": 28,
   "id": "392d3003",
   "metadata": {},
   "outputs": [],
   "source": [
    "#rotatiiong array by p elements\n",
    "def rotate_array(array, p):\n",
    "    \n",
    "    return np.concatenate((array[p:],array[:p]))"
   ]
  },
  {
   "cell_type": "code",
   "execution_count": 30,
   "id": "fdc70480",
   "metadata": {},
   "outputs": [
    {
     "name": "stdout",
     "output_type": "stream",
     "text": [
      "[2 3 4 5 1]\n"
     ]
    }
   ],
   "source": [
    "print(rotate_array(a,1))"
   ]
  },
  {
   "cell_type": "code",
   "execution_count": null,
   "id": "2da33915",
   "metadata": {},
   "outputs": [],
   "source": [
    "4.\tWrite a Python Program to Split the array and add the first part to the end?\n"
   ]
  },
  {
   "cell_type": "code",
   "execution_count": 38,
   "id": "fd24e179",
   "metadata": {},
   "outputs": [],
   "source": [
    "#splitting array  and add the first part to the end\n",
    "def split_add_array(array):\n",
    "    n=len(array)\n",
    "    k=round(n/2)\n",
    "    \n",
    "    return np.concatenate((array[k:],array[:k]))"
   ]
  },
  {
   "cell_type": "code",
   "execution_count": 39,
   "id": "a6b88bdb",
   "metadata": {},
   "outputs": [
    {
     "name": "stdout",
     "output_type": "stream",
     "text": [
      "[3 4 5 1 2]\n"
     ]
    }
   ],
   "source": [
    "print(split_add_array(a))"
   ]
  },
  {
   "cell_type": "code",
   "execution_count": null,
   "id": "d2f9f0dd",
   "metadata": {},
   "outputs": [],
   "source": [
    "5.\tWrite a Python Program to check if given array is Monotonic?\n"
   ]
  },
  {
   "cell_type": "code",
   "execution_count": 43,
   "id": "f6d51eb1",
   "metadata": {},
   "outputs": [],
   "source": [
    "def isMonotonic(array):\n",
    "    return (all(array[i] <= array[i + 1] for i in range(len(array) - 1)) or\n",
    "            all(array[i] >= array[i + 1] for i in range(len(array) - 1)))"
   ]
  },
  {
   "cell_type": "code",
   "execution_count": 44,
   "id": "fed38891",
   "metadata": {},
   "outputs": [
    {
     "data": {
      "text/plain": [
       "True"
      ]
     },
     "execution_count": 44,
     "metadata": {},
     "output_type": "execute_result"
    }
   ],
   "source": [
    "isMonotonic(a)"
   ]
  },
  {
   "cell_type": "code",
   "execution_count": null,
   "id": "980b03a5",
   "metadata": {},
   "outputs": [],
   "source": []
  }
 ],
 "metadata": {
  "kernelspec": {
   "display_name": "Python 3 (ipykernel)",
   "language": "python",
   "name": "python3"
  },
  "language_info": {
   "codemirror_mode": {
    "name": "ipython",
    "version": 3
   },
   "file_extension": ".py",
   "mimetype": "text/x-python",
   "name": "python",
   "nbconvert_exporter": "python",
   "pygments_lexer": "ipython3",
   "version": "3.9.7"
  }
 },
 "nbformat": 4,
 "nbformat_minor": 5
}
